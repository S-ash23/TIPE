{
 "cells": [
  {
   "cell_type": "markdown",
   "metadata": {},
   "source": [
    "# **TIPE TRACKING PROGRAM**"
   ]
  },
  {
   "cell_type": "markdown",
   "metadata": {},
   "source": [
    "Attention, les modules sont pas forcément installés les pc de la salle info\n",
    "il faut faire ces commandes après avoir vérifié que python est bien installé et accessibles\n",
    "\n",
    "pip install trackpy\n",
    "pip install pims\n",
    "pip install av"
   ]
  },
  {
   "cell_type": "markdown",
   "metadata": {},
   "source": [
    "[Lien du Drive](https://drive.google.com/drive/folders/1uPSo6MPDRJ4j5ci-wn5u-lC2dWNZx35D)\n",
    "\n",
    "Lien du Repo : https://github.com/S-ash23/TIPE.git"
   ]
  },
  {
   "cell_type": "markdown",
   "metadata": {},
   "source": [
    "Importation des librairies"
   ]
  },
  {
   "cell_type": "code",
   "execution_count": 8,
   "metadata": {},
   "outputs": [],
   "source": [
    "import trackpy as  tp\n",
    "import numpy as np \n",
    "import pandas as pd\n",
    "import matplotlib.pyplot as plt\n",
    "import pims\n",
    "import av\n"
   ]
  },
  {
   "cell_type": "code",
   "execution_count": 9,
   "metadata": {},
   "outputs": [
    {
     "name": "stdout",
     "output_type": "stream",
     "text": [
      "<av.VideoFrame, pts=44739 yuv420p 1920x1080 at 0x15127f192e0>\n"
     ]
    }
   ],
   "source": [
    "import av\n",
    "\n",
    "container = av.open('20250327_170621.mp4')\n",
    "for frame in container.decode(video=0):\n",
    "    print(frame)\n",
    "    break  # Print the first frame and exit"
   ]
  },
  {
   "cell_type": "code",
   "execution_count": 10,
   "metadata": {},
   "outputs": [],
   "source": [
    "video = pims.PyAVVideoReader('20250327_170621.mp4')"
   ]
  },
  {
   "cell_type": "markdown",
   "metadata": {},
   "source": [
    "**POUR LANCER LA CONSOLE FAIRE UN RUN BY LINE**"
   ]
  },
  {
   "cell_type": "code",
   "execution_count": null,
   "metadata": {},
   "outputs": [],
   "source": [
    "print('CONSOLE')\n"
   ]
  },
  {
   "cell_type": "code",
   "execution_count": null,
   "metadata": {},
   "outputs": [],
   "source": []
  }
 ],
 "metadata": {
  "kernelspec": {
   "display_name": "base",
   "language": "python",
   "name": "python3"
  },
  "language_info": {
   "codemirror_mode": {
    "name": "ipython",
    "version": 3
   },
   "file_extension": ".py",
   "mimetype": "text/x-python",
   "name": "python",
   "nbconvert_exporter": "python",
   "pygments_lexer": "ipython3",
   "version": "3.9.13"
  }
 },
 "nbformat": 4,
 "nbformat_minor": 2
}
